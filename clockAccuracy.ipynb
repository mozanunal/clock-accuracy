{
 "cells": [
  {
   "cell_type": "code",
   "execution_count": null,
   "metadata": {},
   "outputs": [],
   "source": [
    "import numpy as np\n",
    "from scipy.signal import find_peaks, find_peaks_cwt\n",
    "import soundfile as sf\n",
    "from matplotlib import pyplot as plt\n",
    "\n",
    "%matplotlib inline\n",
    "plt.rcParams[\"figure.figsize\"] = (15,4)"
   ]
  },
  {
   "cell_type": "code",
   "execution_count": null,
   "metadata": {},
   "outputs": [],
   "source": [
    "def printShift(shift):\n",
    "    \"\"\"\n",
    "    param shift: should be in second\n",
    "    \"\"\"\n",
    "    shiftInDay = 24*3600*shift\n",
    "    print(\"Shift: {} us\".format(shift*1000000))\n",
    "    print(\"Shift in day: {} s\".format(shiftInDay))"
   ]
  },
  {
   "cell_type": "code",
   "execution_count": null,
   "metadata": {},
   "outputs": [],
   "source": [
    "def smartPeakFinder(array, tresholdVal, distance, startOffset=24):\n",
    "    peaks = []\n",
    "    lastPeakIndex = None\n",
    "    for i, d in enumerate(array):\n",
    "        if i > startOffset:\n",
    "            if lastPeakIndex == None or (i - lastPeakIndex > distance):\n",
    "                if d > tresholdVal:\n",
    "                    lastPeakIndex = i\n",
    "                    peaks.append(i)\n",
    "    return peaks"
   ]
  },
  {
   "cell_type": "code",
   "execution_count": null,
   "metadata": {},
   "outputs": [],
   "source": [
    "def calculateAccuracy(filename, plot=True):\n",
    "    data, samplerate = sf.read(filename)\n",
    "    if len(np.shape(data)) > 1: # Streo check\n",
    "        ch1 = data[:,0]\n",
    "    else:\n",
    "        ch1 = data\n",
    "    print(\"\\n\\n################\")\n",
    "    print(\"Filename: {}\".format(filename))\n",
    "    print(\"Samplerate: {}\".format(samplerate))\n",
    "    print(\"Min Resolution: {} us\".format(1000000*(1.0/samplerate)))\n",
    "    print(\"Lenght: {} - {} s\".format(len(ch1), float(len(ch1))/samplerate))\n",
    "    peaks= smartPeakFinder(ch1, 0.005, samplerate-5000)\n",
    "    peaksTime = [peak*(1.0/samplerate) for peak in peaks]\n",
    "    \n",
    "    \"\"\"\n",
    "    Method 1\n",
    "    \"\"\"\n",
    "    peaksNo = len(peaks)-1\n",
    "    shift = ((peaksTime[peaksNo] - peaksTime[0]) - peaksNo) / float(peaksNo)\n",
    "    printShift(shift)\n",
    "    \"\"\"\n",
    "    Method 2\n",
    "    \"\"\"\n",
    "    try:\n",
    "        shiftList = []\n",
    "        sumS = 0\n",
    "        for i in range(0,len(peaksTime)-1):\n",
    "            s = peaksTime[i+1] -1 -peaksTime[i] \n",
    "            #print(s)\n",
    "            if np.abs(s) < 0.01:\n",
    "                sumS += s\n",
    "                shiftList.append( s )\n",
    "        shift = sumS / float(len(shiftList))\n",
    "        #print(shiftList)\n",
    "        printShift(shift)\n",
    "    except:\n",
    "        pass\n",
    "    if plot==True:\n",
    "        #fftPlot(ch1,samplerate)\n",
    "        plt.figure()\n",
    "        plt.plot(ch1)\n",
    "        plt.plot(peaks, ch1[peaks], \"x\")\n",
    "    return shiftList\n",
    "    \n",
    "    "
   ]
  },
  {
   "cell_type": "code",
   "execution_count": null,
   "metadata": {},
   "outputs": [],
   "source": [
    "def fftPlot(ch1, samplerate):\n",
    "    freq = np.arange(0,samplerate, samplerate/len(ch1))\n",
    "    plt.figure()\n",
    "    plt.plot(freq, np.fft.fft(ch1))\n",
    "    #plt.xlim(0,100)\n"
   ]
  },
  {
   "cell_type": "code",
   "execution_count": null,
   "metadata": {
    "scrolled": false
   },
   "outputs": [],
   "source": [
    "calculateAccuracy(\"test/test5.wav\", plot=True)\n",
    "calculateAccuracy(\"test/test6.wav\", plot=True)\n",
    "calculateAccuracy(\"test/test7.wav\", plot=True)\n",
    "calculateAccuracy(\"test/test8.wav\", plot=True)\n",
    "calculateAccuracy(\"test/test9.wav\", plot=True)\n",
    "calculateAccuracy(\"test/test10.wav\", plot=True)"
   ]
  },
  {
   "cell_type": "code",
   "execution_count": null,
   "metadata": {
    "scrolled": false
   },
   "outputs": [],
   "source": [
    "calculateAccuracy(\"test/test1.wav\", plot=True)\n",
    "calculateAccuracy(\"test/test2.wav\", plot=True)\n",
    "calculateAccuracy(\"test/test3.wav\", plot=True)\n",
    "calculateAccuracy(\"test/test4.wav\", plot=True)"
   ]
  },
  {
   "cell_type": "code",
   "execution_count": null,
   "metadata": {},
   "outputs": [],
   "source": [
    "calculateAccuracy(\"test/test7.wav\")"
   ]
  },
  {
   "cell_type": "code",
   "execution_count": null,
   "metadata": {},
   "outputs": [],
   "source": [
    "calculateAccuracy(\"test/test1-long.wav\")"
   ]
  },
  {
   "cell_type": "code",
   "execution_count": null,
   "metadata": {},
   "outputs": [],
   "source": []
  }
 ],
 "metadata": {
  "kernelspec": {
   "display_name": "Python 2",
   "language": "python",
   "name": "python2"
  },
  "language_info": {
   "codemirror_mode": {
    "name": "ipython",
    "version": 3
   },
   "file_extension": ".py",
   "mimetype": "text/x-python",
   "name": "python",
   "nbconvert_exporter": "python",
   "pygments_lexer": "ipython3",
   "version": "3.6.8"
  }
 },
 "nbformat": 4,
 "nbformat_minor": 2
}
