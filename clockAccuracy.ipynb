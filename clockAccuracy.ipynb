{
 "cells": [
  {
   "cell_type": "code",
   "execution_count": 1,
   "metadata": {},
   "outputs": [],
   "source": [
    "import numpy as np\n",
    "from scipy.signal import find_peaks, find_peaks_cwt\n",
    "import soundfile as sf\n",
    "from matplotlib import pyplot as plt\n",
    "\n",
    "%matplotlib notebook\n"
   ]
  },
  {
   "cell_type": "code",
   "execution_count": 2,
   "metadata": {},
   "outputs": [],
   "source": [
    "def printShift(shift):\n",
    "    \"\"\"\n",
    "    param shift: should be in second\n",
    "    \"\"\"\n",
    "    shiftInDay = 24*3600*shift\n",
    "    print(\"Shift: {} us\".format(shift*1000000))\n",
    "    print(\"Shift in day: {} s\".format(shiftInDay))"
   ]
  },
  {
   "cell_type": "code",
   "execution_count": 3,
   "metadata": {},
   "outputs": [],
   "source": [
    "def calculateAccuracy(filename):\n",
    "    data, samplerate = sf.read(filename)\n",
    "    if len(np.shape(data)) > 1: # Streo check\n",
    "        ch1 = data[:,0]\n",
    "    else:\n",
    "        ch1 = data\n",
    "    print(\"Filename: {}\".format(filename))\n",
    "    print(\"Samplerate: {}\".format(samplerate))\n",
    "    print(\"Min Resolution: {} us\".format(1000000*(1/samplerate)))\n",
    "    print(\"Lenght: {} - {} s\".format(len(ch1), len(ch1)/samplerate))\n",
    "    peaks, t= find_peaks(ch1, height=0.01, distance=samplerate-500)\n",
    "    peaksTime = peaks* (1/samplerate)\n",
    "    \n",
    "    \"\"\"\n",
    "    Method 1\n",
    "    \"\"\"\n",
    "    #peaksNo = len(peaks)-1\n",
    "    #shift = ((peaksTime[peaksNo] - peaksTime[0]) - peaksNo) / peaksNo\n",
    "    #printShift(shift)\n",
    "    \"\"\"\n",
    "    Method 2\n",
    "    \"\"\"\n",
    "    shiftList = []\n",
    "    sumS = 0\n",
    "    for i in range(0,len(peaksTime)-1):\n",
    "        s = peaksTime[i] - peaksTime[i+1] +1\n",
    "        print(s)\n",
    "        if np.abs(s) < 0.005:\n",
    "            sumS += s\n",
    "            shiftList.append( s )\n",
    "    shift = sumS / len(shiftList)\n",
    "    printShift(shift)\n",
    "    \n",
    "    #fftPlot(ch1,samplerate)\n",
    "    plt.figure()\n",
    "    plt.plot(ch1)\n",
    "    plt.plot(peaks, ch1[peaks], \"x\")\n",
    "    \n",
    "    \n",
    "    "
   ]
  },
  {
   "cell_type": "code",
   "execution_count": 4,
   "metadata": {},
   "outputs": [],
   "source": [
    "def fftPlot(ch1, samplerate):\n",
    "    freq = np.arange(0,samplerate, samplerate/len(ch1))\n",
    "    plt.figure()\n",
    "    plt.plot(freq, np.fft.fft(ch1))\n",
    "    #plt.xlim(0,100)\n"
   ]
  },
  {
   "cell_type": "code",
   "execution_count": 5,
   "metadata": {
    "scrolled": false
   },
   "outputs": [
    {
     "name": "stdout",
     "output_type": "stream",
     "text": [
      "Filename: test1.wav\n",
      "Samplerate: 44100\n",
      "Min Resolution: 22.675736961451246 us\n",
      "Lenght: 515200 - 11.682539682539682 s\n",
      "-0.00272108843537\n",
      "-0.00149659863946\n",
      "0.00408163265306\n",
      "0.00015873015873\n",
      "-0.00403628117914\n",
      "0.00115646258503\n",
      "0.000385487528344\n",
      "-0.00260770975057\n",
      "-0.00163265306122\n",
      "0.00380952380952\n",
      "Shift: -290.2494331065597 us\n",
      "Shift in day: -25.07755102040676 s\n"
     ]
    },
    {
     "data": {
      "image/png": "[encoded data removed]",
      "text/plain": [
       "<Figure size 432x288 with 1 Axes>"
      ]
     },
     "metadata": {},
     "output_type": "display_data"
    }
   ],
   "source": [
    "calculateAccuracy(\"test1.wav\")"
   ]
  },
  {
   "cell_type": "code",
   "execution_count": 6,
   "metadata": {},
   "outputs": [
    {
     "name": "stdout",
     "output_type": "stream",
     "text": [
      "Filename: test2.wav\n",
      "Samplerate: 44100\n",
      "Min Resolution: 22.675736961451246 us\n",
      "Lenght: 547456 - 12.413968253968253 s\n",
      "0.000136054421769\n",
      "-0.000476190476191\n",
      "-0.00283446712018\n",
      "0.00410430839002\n",
      "0.00208616780045\n",
      "0.000226757369615\n",
      "-0.00598639455782\n",
      "0.00340136054422\n",
      "-0.00315192743764\n",
      "-0.00229024943311\n",
      "-0.704081632653\n",
      "Shift: 133.53489543968223 us\n",
      "Shift in day: 11.537414965988546 s\n"
     ]
    },
    {
     "data": {
      "image/png": "[encoded data removed]",
      "text/plain": [
       "<Figure size 432x288 with 1 Axes>"
      ]
     },
     "metadata": {},
     "output_type": "display_data"
    }
   ],
   "source": [
    "calculateAccuracy(\"test2.wav\")"
   ]
  },
  {
   "cell_type": "code",
   "execution_count": null,
   "metadata": {},
   "outputs": [],
   "source": []
  }
 ],
 "metadata": {
  "kernelspec": {
   "display_name": "Python 3",
   "language": "python",
   "name": "python3"
  },
  "language_info": {
   "codemirror_mode": {
    "name": "ipython",
    "version": 3
   },
   "file_extension": ".py",
   "mimetype": "text/x-python",
   "name": "python",
   "nbconvert_exporter": "python",
   "pygments_lexer": "ipython3",
   "version": "3.6.6"
  }
 },
 "nbformat": 4,
 "nbformat_minor": 2
}
