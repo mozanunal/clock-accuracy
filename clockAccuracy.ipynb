{
 "cells": [
  {
   "cell_type": "code",
   "execution_count": 1,
   "metadata": {},
   "outputs": [],
   "source": [
    "import numpy as np\n",
    "from scipy.signal import find_peaks, find_peaks_cwt\n",
    "import soundfile as sf\n",
    "from matplotlib import pyplot as plt\n",
    "\n",
    "%matplotlib notebook\n"
   ]
  },
  {
   "cell_type": "code",
   "execution_count": 2,
   "metadata": {},
   "outputs": [],
   "source": [
    "def printShift(shift):\n",
    "    \"\"\"\n",
    "    param shift: should be in second\n",
    "    \"\"\"\n",
    "    shiftInDay = 24*3600*shift\n",
    "    print(\"Shift: {} us\".format(shift*1000000))\n",
    "    print(\"Shift in day: {} s\".format(shiftInDay))"
   ]
  },
  {
   "cell_type": "code",
   "execution_count": 3,
   "metadata": {},
   "outputs": [],
   "source": [
    "def calculateAccuracy(filename, plot=True):\n",
    "    data, samplerate = sf.read(filename)\n",
    "    if len(np.shape(data)) > 1: # Streo check\n",
    "        ch1 = data[:,0]\n",
    "    else:\n",
    "        ch1 = data\n",
    "    print(\"\\n\\n################\")\n",
    "    print(\"Filename: {}\".format(filename))\n",
    "    print(\"Samplerate: {}\".format(samplerate))\n",
    "    print(\"Min Resolution: {} us\".format(1000000*(1/samplerate)))\n",
    "    print(\"Lenght: {} - {} s\".format(len(ch1), len(ch1)/samplerate))\n",
    "    peaks, t= find_peaks(ch1, height=0.01, distance=samplerate-500)\n",
    "    peaksTime = peaks* (1/samplerate)\n",
    "    \n",
    "    \"\"\"\n",
    "    Method 1\n",
    "    \"\"\"\n",
    "    #peaksNo = len(peaks)-1\n",
    "    #shift = ((peaksTime[peaksNo] - peaksTime[0]) - peaksNo) / peaksNo\n",
    "    #printShift(shift)\n",
    "    \"\"\"\n",
    "    Method 2\n",
    "    \"\"\"\n",
    "    shiftList = []\n",
    "    sumS = 0\n",
    "    for i in range(0,len(peaksTime)-1):\n",
    "        s = peaksTime[i] - peaksTime[i+1] +1\n",
    "        #print(s)\n",
    "        if np.abs(s) < 0.01:\n",
    "            sumS += s\n",
    "            shiftList.append( s )\n",
    "    shift = sumS / len(shiftList)\n",
    "    print(shiftList)\n",
    "    printShift(shift)\n",
    "    if plot==True:\n",
    "        #fftPlot(ch1,samplerate)\n",
    "        plt.figure()\n",
    "        plt.plot(ch1)\n",
    "        plt.plot(peaks, ch1[peaks], \"x\")\n",
    "    \n",
    "    \n",
    "    "
   ]
  },
  {
   "cell_type": "code",
   "execution_count": 4,
   "metadata": {},
   "outputs": [],
   "source": [
    "def fftPlot(ch1, samplerate):\n",
    "    freq = np.arange(0,samplerate, samplerate/len(ch1))\n",
    "    plt.figure()\n",
    "    plt.plot(freq, np.fft.fft(ch1))\n",
    "    #plt.xlim(0,100)\n"
   ]
  },
  {
   "cell_type": "code",
   "execution_count": null,
   "metadata": {
    "scrolled": false
   },
   "outputs": [
    {
     "name": "stdout",
     "output_type": "stream",
     "text": [
      "\n",
      "\n",
      "################\n",
      "Filename: test5.wav\n",
      "Samplerate: 44100\n",
      "Min Resolution: 22.675736961451246 us\n",
      "Lenght: 545664 - 12.373333333333333 s\n",
      "[-0.0046712018140593337, 0.0047845804988666529, -0.00020408163265361878, 0.0076190476190483025]\n",
      "Shift: 1882.0861678005008 us\n",
      "Shift in day: 162.61224489796325 s\n",
      "\n",
      "\n",
      "################\n",
      "Filename: test6.wav\n",
      "Samplerate: 44100\n",
      "Min Resolution: 22.675736961451246 us\n",
      "Lenght: 585984 - 13.287619047619048 s\n",
      "[-2.2675736961463855e-05, 0.00018140589569148879, -0.0039682539682539542, 0.003990929705215418, -0.0038775510204080987, 0.0041950113378685927, -0.0010884353741484887, 0.0037868480725613551, -0.00079365079364990265, -0.0026984126984128665]\n",
      "Shift: -29.47845804979199 us\n",
      "Shift in day: -2.546938775502028 s\n",
      "\n",
      "\n",
      "################\n",
      "Filename: test7.wav\n",
      "Samplerate: 44100\n",
      "Min Resolution: 22.675736961451246 us\n",
      "Lenght: 577920 - 13.104761904761904 s\n",
      "[0.0013605442176870541, 0.0002494331065761024, 0.00013605442176878313, 0.00061224489795907999, -0.0058049886621320823, -0.00029478458049858602, 0.0021768707482996419, -0.00099773242630352144, -0.0039682539682548423, 0.0058276643990939903, -0.0056235827664412597, 0.0028798185941045773]\n",
      "Shift: -287.2260015117552 us\n",
      "Shift in day: -24.81632653061565 s\n",
      "\n",
      "\n",
      "################\n",
      "Filename: test8.wav\n",
      "Samplerate: 44100\n",
      "Min Resolution: 22.675736961451246 us\n",
      "Lenght: 556416 - 12.617142857142857 s\n",
      "[-0.001383219954648407, 0.0017460317460318286, 0.00061224489795907999, -0.00083900226757416263, -0.0030839002267573079, -0.0048526077097506004, 0.0057142857142862269, -0.0036054421768705325, 0.0042857142857144481, -0.0029251700680283932, 0.0055782312925174438]\n",
      "Shift: 113.37868480723853 us\n",
      "Shift in day: 9.79591836734541 s\n",
      "\n",
      "\n",
      "################\n",
      "Filename: test9.wav\n",
      "Samplerate: 44100\n",
      "Min Resolution: 22.675736961451246 us\n",
      "Lenght: 532224 - 12.06857142857143 s\n",
      "[0.0057369614512472467, -0.0020634920634921006, -0.0015873015873015817, -0.0011111111111108407, 0.0015646258503396737, -0.0014285714285717788, 0.0014965986394566144, 0.0019954648526070429, -0.0021315192743767142, 0.002312925170068425, 0.00068027210884302747]\n",
      "Shift: 496.8047825190013 us\n",
      "Shift in day: 42.92393320964171 s\n",
      "\n",
      "\n",
      "################\n",
      "Filename: test10.wav\n",
      "Samplerate: 44100\n",
      "Min Resolution: 22.675736961451246 us\n",
      "Lenght: 494592 - 11.215238095238096 s\n",
      "[0.0041269841269840901, -0.00054421768707491047, 0.00077097505668932698, -0.0053741496598642691, 0.0051927437641730023, -0.0033786848072567821, 0.0055328798185945161, -0.0025170068027220438, -0.0021315192743749378]\n",
      "Shift: 186.4449483497769 us\n",
      "Shift in day: 16.108843537420725 s\n"
     ]
    }
   ],
   "source": [
    "calculateAccuracy(\"test5.wav\", plot=False)\n",
    "calculateAccuracy(\"test6.wav\", plot=False)\n",
    "calculateAccuracy(\"test7.wav\", plot=False)\n",
    "calculateAccuracy(\"test8.wav\", plot=False)\n",
    "calculateAccuracy(\"test9.wav\", plot=False)\n",
    "calculateAccuracy(\"test10.wav\", plot=False)"
   ]
  },
  {
   "cell_type": "code",
   "execution_count": 16,
   "metadata": {},
   "outputs": [
    {
     "name": "stdout",
     "output_type": "stream",
     "text": [
      "\n",
      "\n",
      "################\n",
      "Filename: test9.wav\n",
      "Samplerate: 44100\n",
      "Min Resolution: 22.675736961451246 us\n",
      "Lenght: 532224 - 12.06857142857143 s\n",
      "[0.0057369614512472467, -0.0020634920634921006, -0.0015873015873015817, -0.0011111111111108407, 0.0015646258503396737, -0.0014285714285717788, 0.0014965986394566144, 0.0019954648526070429, -0.0021315192743767142, 0.002312925170068425, 0.00068027210884302747]\n",
      "Shift: 496.8047825190013 us\n",
      "Shift in day: 42.92393320964171 s\n"
     ]
    },
    {
     "data": {
      "image/png": "[encoded data removed]",
      "text/plain": [
       "<Figure size 432x288 with 1 Axes>"
      ]
     },
     "metadata": {},
     "output_type": "display_data"
    }
   ],
   "source": [
    "calculateAccuracy(\"test9.wav\")"
   ]
  },
  {
   "cell_type": "code",
   "execution_count": 17,
   "metadata": {},
   "outputs": [
    {
     "name": "stdout",
     "output_type": "stream",
     "text": [
      "\n",
      "\n",
      "################\n",
      "Filename: test7.wav\n",
      "Samplerate: 44100\n",
      "Min Resolution: 22.675736961451246 us\n",
      "Lenght: 577920 - 13.104761904761904 s\n",
      "[0.0013605442176870541, 0.0002494331065761024, 0.00013605442176878313, 0.00061224489795907999, -0.0058049886621320823, -0.00029478458049858602, 0.0021768707482996419, -0.00099773242630352144, -0.0039682539682548423, 0.0058276643990939903, -0.0056235827664412597, 0.0028798185941045773]\n",
      "Shift: -287.2260015117552 us\n",
      "Shift in day: -24.81632653061565 s\n"
     ]
    },
    {
     "data": {
      "image/png": "[encoded data removed]",
      "text/plain": [
       "<Figure size 432x288 with 1 Axes>"
      ]
     },
     "metadata": {},
     "output_type": "display_data"
    }
   ],
   "source": [
    "calculateAccuracy(\"test7.wav\")"
   ]
  },
  {
   "cell_type": "code",
   "execution_count": null,
   "metadata": {},
   "outputs": [],
   "source": [
    "calculateAccuracy(\"test1-long.wav\")"
   ]
  },
  {
   "cell_type": "code",
   "execution_count": null,
   "metadata": {},
   "outputs": [],
   "source": []
  }
 ],
 "metadata": {
  "kernelspec": {
   "display_name": "Python 3",
   "language": "python",
   "name": "python3"
  },
  "language_info": {
   "codemirror_mode": {
    "name": "ipython",
    "version": 3
   },
   "file_extension": ".py",
   "mimetype": "text/x-python",
   "name": "python",
   "nbconvert_exporter": "python",
   "pygments_lexer": "ipython3",
   "version": "3.6.6"
  }
 },
 "nbformat": 4,
 "nbformat_minor": 2
}
